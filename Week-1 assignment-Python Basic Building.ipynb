{
 "cells": [
  {
   "cell_type": "markdown",
   "id": "529663b6",
   "metadata": {},
   "source": [
    "# Assignment 1\n",
    "## Week - 1"
   ]
  },
  {
   "cell_type": "markdown",
   "id": "daf84077",
   "metadata": {},
   "source": [
    "## 1. Create one variable containing following type of data:\n",
    "- (i) string\n",
    "- (ii) list\n",
    "- (iii) float\n",
    "- (iv) tuple\n",
    "### Ans:"
   ]
  },
  {
   "cell_type": "markdown",
   "id": "c40d34bc",
   "metadata": {},
   "source": [
    "###### (i) string"
   ]
  },
  {
   "cell_type": "code",
   "execution_count": 14,
   "id": "31d3bb9f",
   "metadata": {},
   "outputs": [],
   "source": [
    "a = 'Shreya'"
   ]
  },
  {
   "cell_type": "code",
   "execution_count": 15,
   "id": "f0909286",
   "metadata": {},
   "outputs": [
    {
     "data": {
      "text/plain": [
       "str"
      ]
     },
     "execution_count": 15,
     "metadata": {},
     "output_type": "execute_result"
    }
   ],
   "source": [
    "type(a)"
   ]
  },
  {
   "cell_type": "markdown",
   "id": "8d143a59",
   "metadata": {},
   "source": [
    "###### (ii) list"
   ]
  },
  {
   "cell_type": "code",
   "execution_count": 16,
   "id": "d4b7e4e8",
   "metadata": {},
   "outputs": [],
   "source": [
    "b = [2, 5, 'shreya', 24.11, True, 22+11j]"
   ]
  },
  {
   "cell_type": "code",
   "execution_count": 17,
   "id": "fad37364",
   "metadata": {},
   "outputs": [
    {
     "data": {
      "text/plain": [
       "list"
      ]
     },
     "execution_count": 17,
     "metadata": {},
     "output_type": "execute_result"
    }
   ],
   "source": [
    "type(b)"
   ]
  },
  {
   "cell_type": "markdown",
   "id": "1163745f",
   "metadata": {},
   "source": [
    "###### (iii) float"
   ]
  },
  {
   "cell_type": "code",
   "execution_count": 18,
   "id": "4613de24",
   "metadata": {},
   "outputs": [],
   "source": [
    "c = 24.11"
   ]
  },
  {
   "cell_type": "code",
   "execution_count": 19,
   "id": "50a59529",
   "metadata": {},
   "outputs": [
    {
     "data": {
      "text/plain": [
       "float"
      ]
     },
     "execution_count": 19,
     "metadata": {},
     "output_type": "execute_result"
    }
   ],
   "source": [
    "type(c)"
   ]
  },
  {
   "cell_type": "markdown",
   "id": "f933d87e",
   "metadata": {},
   "source": [
    "###### (iv) tuple"
   ]
  },
  {
   "cell_type": "code",
   "execution_count": 20,
   "id": "c1c54e0b",
   "metadata": {},
   "outputs": [],
   "source": [
    "d = (2,3,4,5, 'shreya', 24.11, False, 2+2j)"
   ]
  },
  {
   "cell_type": "code",
   "execution_count": 21,
   "id": "01a845d2",
   "metadata": {},
   "outputs": [
    {
     "data": {
      "text/plain": [
       "tuple"
      ]
     },
     "execution_count": 21,
     "metadata": {},
     "output_type": "execute_result"
    }
   ],
   "source": [
    "type(d)"
   ]
  },
  {
   "cell_type": "markdown",
   "id": "48675ce7",
   "metadata": {},
   "source": [
    "## 2. Given are some following variables containing data:\n",
    "- (i) var1 = ‘ ‘\n",
    "- (ii) var2 = ‘[ DS , ML , Python]’\n",
    "- (iii) var3 = [ ‘DS’ , ’ML’ , ‘Python’ ]\n",
    "- (iv) var4 = 1.\n",
    "- What will be the data type of the above given variable.\n",
    "### Ans:"
   ]
  },
  {
   "cell_type": "markdown",
   "id": "1cb0a981",
   "metadata": {},
   "source": [
    "###### (i) var1 = ' '"
   ]
  },
  {
   "cell_type": "code",
   "execution_count": 22,
   "id": "4bbfaf81",
   "metadata": {},
   "outputs": [],
   "source": [
    "var1 = ''"
   ]
  },
  {
   "cell_type": "code",
   "execution_count": 23,
   "id": "1ade43f7",
   "metadata": {},
   "outputs": [
    {
     "data": {
      "text/plain": [
       "str"
      ]
     },
     "execution_count": 23,
     "metadata": {},
     "output_type": "execute_result"
    }
   ],
   "source": [
    "type(var1)"
   ]
  },
  {
   "cell_type": "markdown",
   "id": "7489d6e3",
   "metadata": {},
   "source": [
    "###### (ii) var2 = ‘[ DS , ML , Python]’"
   ]
  },
  {
   "cell_type": "code",
   "execution_count": 24,
   "id": "58d9ba56",
   "metadata": {},
   "outputs": [],
   "source": [
    "var2 = '[DS, ML, Python]'"
   ]
  },
  {
   "cell_type": "code",
   "execution_count": 25,
   "id": "bc21e425",
   "metadata": {},
   "outputs": [
    {
     "data": {
      "text/plain": [
       "str"
      ]
     },
     "execution_count": 25,
     "metadata": {},
     "output_type": "execute_result"
    }
   ],
   "source": [
    "type(var2)"
   ]
  },
  {
   "cell_type": "markdown",
   "id": "031eff35",
   "metadata": {},
   "source": [
    "###### (iii) var3 = [ ‘DS’ , ’ML’ , ‘Python’ ]"
   ]
  },
  {
   "cell_type": "code",
   "execution_count": 26,
   "id": "38c98907",
   "metadata": {},
   "outputs": [],
   "source": [
    "var3 = [ 'DS' , 'ML' , 'Python' ]"
   ]
  },
  {
   "cell_type": "code",
   "execution_count": 27,
   "id": "a7ef0188",
   "metadata": {},
   "outputs": [
    {
     "data": {
      "text/plain": [
       "list"
      ]
     },
     "execution_count": 27,
     "metadata": {},
     "output_type": "execute_result"
    }
   ],
   "source": [
    "type(var3)"
   ]
  },
  {
   "cell_type": "markdown",
   "id": "39a2e0d0",
   "metadata": {},
   "source": [
    "###### (iv) var4 = 1"
   ]
  },
  {
   "cell_type": "code",
   "execution_count": 28,
   "id": "804a2dec",
   "metadata": {},
   "outputs": [],
   "source": [
    "var4 = 1"
   ]
  },
  {
   "cell_type": "code",
   "execution_count": 29,
   "id": "2c7b8f7d",
   "metadata": {},
   "outputs": [
    {
     "data": {
      "text/plain": [
       "int"
      ]
     },
     "execution_count": 29,
     "metadata": {},
     "output_type": "execute_result"
    }
   ],
   "source": [
    "type(var4)"
   ]
  },
  {
   "cell_type": "markdown",
   "id": "6b4d3174",
   "metadata": {},
   "source": [
    "## 3. Explain the use of the following operators using an example:\n",
    "- (i) /\n",
    "- (ii) %\n",
    "- (iii) //\n",
    "- (iv) **"
   ]
  },
  {
   "cell_type": "markdown",
   "id": "7d420db7",
   "metadata": {},
   "source": [
    "#### Ans:\n",
    "- '/' performs division.\n",
    "- '%' calculates the remainder.\n",
    "- '//' performs floor division, rounding down.\n",
    "- '**' calculates exponentiation, raising a number to a power."
   ]
  },
  {
   "cell_type": "markdown",
   "id": "3dbed826",
   "metadata": {},
   "source": [
    "###### (i) /"
   ]
  },
  {
   "cell_type": "markdown",
   "id": "80a48f4a",
   "metadata": {},
   "source": [
    "- The division operator / is used to divide one number by another.\n",
    "- Example: 10 / 2\n",
    "- Result: 5\n",
    "- In this example, 10 is divided by 2, and the result is 5. The / operator gives the quotient of the division operation."
   ]
  },
  {
   "cell_type": "code",
   "execution_count": 30,
   "id": "654c4d06",
   "metadata": {},
   "outputs": [
    {
     "data": {
      "text/plain": [
       "2.0"
      ]
     },
     "execution_count": 30,
     "metadata": {},
     "output_type": "execute_result"
    }
   ],
   "source": [
    "4/2"
   ]
  },
  {
   "cell_type": "code",
   "execution_count": 31,
   "id": "3610ef1b",
   "metadata": {},
   "outputs": [
    {
     "data": {
      "text/plain": [
       "1.3333333333333333"
      ]
     },
     "execution_count": 31,
     "metadata": {},
     "output_type": "execute_result"
    }
   ],
   "source": [
    "4/3"
   ]
  },
  {
   "cell_type": "markdown",
   "id": "5f94bda4",
   "metadata": {},
   "source": [
    "###### (ii) %"
   ]
  },
  {
   "cell_type": "markdown",
   "id": "2cad317d",
   "metadata": {},
   "source": [
    "- The modulus operator % is used to find the remainder when one number is divided by another.\n",
    "- Example: 15 % 4\n",
    "- Result: 3\n",
    "- In this example, 15 is divided by 4, and the remainder is 3. The % operator returns the remainder of the division."
   ]
  },
  {
   "cell_type": "code",
   "execution_count": 32,
   "id": "2384ac49",
   "metadata": {},
   "outputs": [
    {
     "data": {
      "text/plain": [
       "0"
      ]
     },
     "execution_count": 32,
     "metadata": {},
     "output_type": "execute_result"
    }
   ],
   "source": [
    "4%2"
   ]
  },
  {
   "cell_type": "code",
   "execution_count": 33,
   "id": "f4d0f735",
   "metadata": {},
   "outputs": [
    {
     "data": {
      "text/plain": [
       "1"
      ]
     },
     "execution_count": 33,
     "metadata": {},
     "output_type": "execute_result"
    }
   ],
   "source": [
    "4%3"
   ]
  },
  {
   "cell_type": "markdown",
   "id": "297fb9f6",
   "metadata": {},
   "source": [
    "###### (iii) //"
   ]
  },
  {
   "cell_type": "markdown",
   "id": "da4c6f0d",
   "metadata": {},
   "source": [
    "- The floor division operator // is used to divide one number by another and round the result down to the nearest whole number.\n",
    "- Example: 10 // 3\n",
    "- Result: 3\n",
    "- In this example, 10 is divided by 3, and the result is 3.333... When you use //, it discards the decimal part and gives you the integer result, rounding down."
   ]
  },
  {
   "cell_type": "code",
   "execution_count": 34,
   "id": "d91c5943",
   "metadata": {},
   "outputs": [
    {
     "data": {
      "text/plain": [
       "12"
      ]
     },
     "execution_count": 34,
     "metadata": {},
     "output_type": "execute_result"
    }
   ],
   "source": [
    "24//2"
   ]
  },
  {
   "cell_type": "code",
   "execution_count": 35,
   "id": "62c7c4a5",
   "metadata": {},
   "outputs": [
    {
     "data": {
      "text/plain": [
       "1"
      ]
     },
     "execution_count": 35,
     "metadata": {},
     "output_type": "execute_result"
    }
   ],
   "source": [
    "2//2"
   ]
  },
  {
   "cell_type": "markdown",
   "id": "135d2896",
   "metadata": {},
   "source": [
    "###### (iv) **"
   ]
  },
  {
   "cell_type": "markdown",
   "id": "35f9206f",
   "metadata": {},
   "source": [
    "- The exponentiation operator ** is used to raise a number to a certain power.\n",
    "- Example: 2 ** 3\n",
    "- Result: 8\n",
    "- In this example, 2 raised to the power of 3 equals 8. The ** operator calculates the result of exponentiation."
   ]
  },
  {
   "cell_type": "code",
   "execution_count": 36,
   "id": "815455f1",
   "metadata": {},
   "outputs": [
    {
     "data": {
      "text/plain": [
       "8"
      ]
     },
     "execution_count": 36,
     "metadata": {},
     "output_type": "execute_result"
    }
   ],
   "source": [
    "2**3"
   ]
  },
  {
   "cell_type": "code",
   "execution_count": 37,
   "id": "b3fbfbf6",
   "metadata": {},
   "outputs": [
    {
     "data": {
      "text/plain": [
       "81"
      ]
     },
     "execution_count": 37,
     "metadata": {},
     "output_type": "execute_result"
    }
   ],
   "source": [
    "9**2"
   ]
  },
  {
   "cell_type": "markdown",
   "id": "3979fb1b",
   "metadata": {},
   "source": [
    "## 4. Create a list of length 10 of your choice containing multiple types of data. Using for loop print the element and its data type."
   ]
  },
  {
   "cell_type": "code",
   "execution_count": 38,
   "id": "c7c5f256",
   "metadata": {},
   "outputs": [
    {
     "name": "stdout",
     "output_type": "stream",
     "text": [
      "Element: 29\n",
      "Datatype: <class 'str'>\n",
      "Element: False\n",
      "Datatype: <class 'str'>\n",
      "Element: Business\n",
      "Datatype: <class 'str'>\n",
      "Element: 4000\n",
      "Datatype: <class 'int'>\n",
      "Element: 24.11\n",
      "Datatype: <class 'float'>\n",
      "Element: True\n",
      "Datatype: <class 'bool'>\n",
      "Element: (7+3j)\n",
      "Datatype: <class 'complex'>\n",
      "Element: (2, 10, 'b')\n",
      "Datatype: <class 'tuple'>\n",
      "Element: {False, 'code', 101}\n",
      "Datatype: <class 'set'>\n",
      "Element: [900, 800, 700]\n",
      "Datatype: <class 'list'>\n"
     ]
    }
   ],
   "source": [
    "a = ['29', 'False', 'Business', 4000, 24.11, True, (3j+7), (2, 10, 'b',), {'code', 101, False}, [900, 800, 700]]\n",
    "for i in a:\n",
    "    print(\"Element:\", i)\n",
    "    print(\"Datatype:\", type(i))"
   ]
  },
  {
   "cell_type": "markdown",
   "id": "164a6c64",
   "metadata": {},
   "source": [
    "## 5. Using a while loop, verify if the number A is purely divisible by number B and if so then how many times it can be divisible."
   ]
  },
  {
   "cell_type": "code",
   "execution_count": 41,
   "id": "cb580ee7",
   "metadata": {},
   "outputs": [
    {
     "name": "stdout",
     "output_type": "stream",
     "text": [
      "27\n",
      "3\n",
      "Entered number A: 27\n",
      "Entered number B: 3\n",
      "Yes, 'A' is divisible by 'B' 9 times\n"
     ]
    }
   ],
   "source": [
    "A = int(input())\n",
    "B = int(input())\n",
    "print(\"Entered number A:\",A)\n",
    "print(\"Entered number B:\",B)\n",
    "while A%B==0:\n",
    "    print(\"Yes, 'A' is divisible by 'B'\", A//B, \"times\")\n",
    "    break\n",
    "else:\n",
    "    print(\"No, 'A' is not divisible by 'B'\")"
   ]
  },
  {
   "cell_type": "markdown",
   "id": "e1480196",
   "metadata": {},
   "source": [
    "## 6. Create a list containing 25 int type data. Using for loop and if-else condition print if the element is divisible by 3 or not."
   ]
  },
  {
   "cell_type": "code",
   "execution_count": 42,
   "id": "9b80a252",
   "metadata": {},
   "outputs": [
    {
     "name": "stdout",
     "output_type": "stream",
     "text": [
      "1 is not divisible by 3\n",
      "2 is not divisible by 3\n",
      "3 is divisible by3\n",
      "4 is not divisible by 3\n",
      "5 is not divisible by 3\n",
      "6 is divisible by3\n",
      "7 is not divisible by 3\n",
      "8 is not divisible by 3\n",
      "9 is divisible by3\n",
      "10 is not divisible by 3\n",
      "11 is not divisible by 3\n",
      "12 is divisible by3\n",
      "13 is not divisible by 3\n",
      "14 is not divisible by 3\n",
      "15 is divisible by3\n",
      "16 is not divisible by 3\n",
      "17 is not divisible by 3\n",
      "18 is divisible by3\n",
      "19 is not divisible by 3\n",
      "20 is not divisible by 3\n",
      "21 is divisible by3\n",
      "22 is not divisible by 3\n",
      "23 is not divisible by 3\n",
      "24 is divisible by3\n",
      "25 is not divisible by 3\n"
     ]
    }
   ],
   "source": [
    "l = [1,2,3,4,5,6,7,8,9,10,11,12,13,14,15,16,17,18,19,20,21,22,23,24,25]\n",
    "for i in l:\n",
    "    if i%3==0:\n",
    "        print(i,\"is divisible by3\")\n",
    "    else:\n",
    "        print(i,\"is not divisible by 3\")"
   ]
  },
  {
   "cell_type": "code",
   "execution_count": 43,
   "id": "a8d8f563",
   "metadata": {},
   "outputs": [
    {
     "name": "stdout",
     "output_type": "stream",
     "text": [
      "0 is divisible by 3.\n",
      "1 is not divisible by 3.\n",
      "2 is not divisible by 3.\n",
      "3 is divisible by 3.\n",
      "4 is not divisible by 3.\n",
      "5 is not divisible by 3.\n",
      "6 is divisible by 3.\n",
      "7 is not divisible by 3.\n",
      "8 is not divisible by 3.\n",
      "9 is divisible by 3.\n",
      "10 is not divisible by 3.\n",
      "11 is not divisible by 3.\n",
      "12 is divisible by 3.\n",
      "13 is not divisible by 3.\n",
      "14 is not divisible by 3.\n",
      "15 is divisible by 3.\n",
      "16 is not divisible by 3.\n",
      "17 is not divisible by 3.\n",
      "18 is divisible by 3.\n",
      "19 is not divisible by 3.\n",
      "20 is not divisible by 3.\n",
      "21 is divisible by 3.\n",
      "22 is not divisible by 3.\n",
      "23 is not divisible by 3.\n",
      "24 is divisible by 3.\n"
     ]
    }
   ],
   "source": [
    "l = []\n",
    "for i in range(25):\n",
    "    l.append(i)\n",
    "for i in l:\n",
    "    if i % 3 == 0:\n",
    "        print(i, \"is divisible by 3.\")\n",
    "    else:\n",
    "        print(i, \"is not divisible by 3.\")\n"
   ]
  },
  {
   "cell_type": "markdown",
   "id": "28e8f2d7",
   "metadata": {},
   "source": [
    "## 7. What do you understand about mutable and immutable data types? Give examples for both showing this property.\n",
    "### Ans:"
   ]
  },
  {
   "cell_type": "markdown",
   "id": "0621b655",
   "metadata": {},
   "source": [
    "#### Mutable Objects:\n",
    "Mutable objects are objects whose state can be modified after creation. When we modify a mutable object, we are actually changing its contents in memory. \n",
    "###### Common examples of mutable objects in Python include:\n",
    "\n",
    "1. Lists\n",
    "2. Dictionaries\n",
    "3. Sets\n",
    "4. User-defined classes (if designed to be mutable\n",
    "- **Note**: When we modify these objects (e.g., add or remove elements in a list), the original object's content is changed, and any references to that object will reflect the changes.\n",
    "#### Immutable Objects:\n",
    "Objects whose state cannot be modified after creation. Any operation that appears to \"modify\" an immutable object actually creates a new object with the modified state. \n",
    "###### Common examples of immutable objects in Python include:\n",
    "\n",
    "1. Integers\n",
    "2. Floats\n",
    "3. Strings\n",
    "4. Tuples\n",
    "5. Booleans (True and False are immutable)\n",
    "- **Note**: If we try to modify an immutable object, a new object is created, and the original object remains unchanged."
   ]
  },
  {
   "cell_type": "markdown",
   "id": "591cd55d",
   "metadata": {},
   "source": [
    "###### Example Mutable"
   ]
  },
  {
   "cell_type": "code",
   "execution_count": 44,
   "id": "e9a496d2",
   "metadata": {},
   "outputs": [],
   "source": [
    "u = ['shreya', 2,3,4,5, (2j+11), 24.11, False ]"
   ]
  },
  {
   "cell_type": "code",
   "execution_count": 45,
   "id": "8cc4cb75",
   "metadata": {},
   "outputs": [
    {
     "data": {
      "text/plain": [
       "list"
      ]
     },
     "execution_count": 45,
     "metadata": {},
     "output_type": "execute_result"
    }
   ],
   "source": [
    "type(u)"
   ]
  },
  {
   "cell_type": "code",
   "execution_count": 46,
   "id": "cfae19cf",
   "metadata": {},
   "outputs": [],
   "source": [
    "u[0]=2"
   ]
  },
  {
   "cell_type": "code",
   "execution_count": 47,
   "id": "b1c3e028",
   "metadata": {},
   "outputs": [
    {
     "data": {
      "text/plain": [
       "[2, 2, 3, 4, 5, (11+2j), 24.11, False]"
      ]
     },
     "execution_count": 47,
     "metadata": {},
     "output_type": "execute_result"
    }
   ],
   "source": [
    "u"
   ]
  },
  {
   "cell_type": "code",
   "execution_count": 48,
   "id": "b49bab22",
   "metadata": {},
   "outputs": [],
   "source": [
    "u[0]=8"
   ]
  },
  {
   "cell_type": "code",
   "execution_count": 49,
   "id": "f0b02770",
   "metadata": {},
   "outputs": [
    {
     "data": {
      "text/plain": [
       "[8, 2, 3, 4, 5, (11+2j), 24.11, False]"
      ]
     },
     "execution_count": 49,
     "metadata": {},
     "output_type": "execute_result"
    }
   ],
   "source": [
    "u"
   ]
  },
  {
   "cell_type": "code",
   "execution_count": 50,
   "id": "1bb01c71",
   "metadata": {},
   "outputs": [],
   "source": [
    "u[0]='Cool'"
   ]
  },
  {
   "cell_type": "code",
   "execution_count": 51,
   "id": "3628be1d",
   "metadata": {},
   "outputs": [
    {
     "data": {
      "text/plain": [
       "['Cool', 2, 3, 4, 5, (11+2j), 24.11, False]"
      ]
     },
     "execution_count": 51,
     "metadata": {},
     "output_type": "execute_result"
    }
   ],
   "source": [
    "u"
   ]
  },
  {
   "cell_type": "code",
   "execution_count": 52,
   "id": "b93ac432",
   "metadata": {},
   "outputs": [],
   "source": [
    "u[3]=50"
   ]
  },
  {
   "cell_type": "code",
   "execution_count": 53,
   "id": "78b3ed9a",
   "metadata": {},
   "outputs": [
    {
     "data": {
      "text/plain": [
       "['Cool', 2, 3, 50, 5, (11+2j), 24.11, False]"
      ]
     },
     "execution_count": 53,
     "metadata": {},
     "output_type": "execute_result"
    }
   ],
   "source": [
    "u"
   ]
  },
  {
   "cell_type": "code",
   "execution_count": 54,
   "id": "e9684832",
   "metadata": {},
   "outputs": [],
   "source": [
    "u[5]='Learner'"
   ]
  },
  {
   "cell_type": "code",
   "execution_count": 55,
   "id": "f6f2b967",
   "metadata": {},
   "outputs": [
    {
     "data": {
      "text/plain": [
       "['Cool', 2, 3, 50, 5, 'Learner', 24.11, False]"
      ]
     },
     "execution_count": 55,
     "metadata": {},
     "output_type": "execute_result"
    }
   ],
   "source": [
    "u"
   ]
  },
  {
   "cell_type": "code",
   "execution_count": 56,
   "id": "4699ff2b",
   "metadata": {},
   "outputs": [],
   "source": [
    "u[-1]='25'"
   ]
  },
  {
   "cell_type": "code",
   "execution_count": 57,
   "id": "deecb180",
   "metadata": {},
   "outputs": [
    {
     "data": {
      "text/plain": [
       "['Cool', 2, 3, 50, 5, 'Learner', 24.11, '25']"
      ]
     },
     "execution_count": 57,
     "metadata": {},
     "output_type": "execute_result"
    }
   ],
   "source": [
    "u"
   ]
  },
  {
   "cell_type": "markdown",
   "id": "be0b927e",
   "metadata": {},
   "source": [
    "###### Example Immutable"
   ]
  },
  {
   "cell_type": "code",
   "execution_count": 58,
   "id": "a096c5de",
   "metadata": {},
   "outputs": [],
   "source": [
    "text = \"Hello\"\n",
    "new_text = text + \", World\"  # Creates a new string, \"Hello, World\""
   ]
  },
  {
   "cell_type": "code",
   "execution_count": 59,
   "id": "2ae1467f",
   "metadata": {},
   "outputs": [
    {
     "data": {
      "text/plain": [
       "'Hello, World'"
      ]
     },
     "execution_count": 59,
     "metadata": {},
     "output_type": "execute_result"
    }
   ],
   "source": [
    "new_text"
   ]
  },
  {
   "cell_type": "code",
   "execution_count": 60,
   "id": "4b34fd1a",
   "metadata": {},
   "outputs": [
    {
     "data": {
      "text/plain": [
       "'Hello'"
      ]
     },
     "execution_count": 60,
     "metadata": {},
     "output_type": "execute_result"
    }
   ],
   "source": [
    "text"
   ]
  },
  {
   "cell_type": "code",
   "execution_count": 61,
   "id": "65f7f663",
   "metadata": {},
   "outputs": [],
   "source": [
    "x = 5\n",
    "y = x  # y now holds the value 5\n",
    "x = 10  # x now holds the value 10, but y remains 5"
   ]
  },
  {
   "cell_type": "code",
   "execution_count": 62,
   "id": "663cf22c",
   "metadata": {},
   "outputs": [
    {
     "data": {
      "text/plain": [
       "10"
      ]
     },
     "execution_count": 62,
     "metadata": {},
     "output_type": "execute_result"
    }
   ],
   "source": [
    "x"
   ]
  },
  {
   "cell_type": "code",
   "execution_count": 63,
   "id": "da06e968",
   "metadata": {},
   "outputs": [
    {
     "data": {
      "text/plain": [
       "5"
      ]
     },
     "execution_count": 63,
     "metadata": {},
     "output_type": "execute_result"
    }
   ],
   "source": [
    "y"
   ]
  }
 ],
 "metadata": {
  "kernelspec": {
   "display_name": "Python 3 (ipykernel)",
   "language": "python",
   "name": "python3"
  },
  "language_info": {
   "codemirror_mode": {
    "name": "ipython",
    "version": 3
   },
   "file_extension": ".py",
   "mimetype": "text/x-python",
   "name": "python",
   "nbconvert_exporter": "python",
   "pygments_lexer": "ipython3",
   "version": "3.11.4"
  }
 },
 "nbformat": 4,
 "nbformat_minor": 5
}
